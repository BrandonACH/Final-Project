{
 "cells": [
  {
   "cell_type": "markdown",
   "metadata": {},
   "source": [
    "# Stringency Index"
   ]
  },
  {
   "cell_type": "markdown",
   "metadata": {},
   "source": [
    "School closures; Workplace closures; Cancellation of public events; Restrictions on public gatherings; Closures of public transport; Stay-at-home requirements; Public information campaigns; Restrictions on internal movements; and International travel controls."
   ]
  },
  {
   "cell_type": "code",
   "execution_count": null,
   "metadata": {},
   "outputs": [],
   "source": [
    "url = 'https://github.com/OxCGRT/covid-policy-tracker/raw/master/data/timeseries/OxCGRT_timeseries_all.xlsx'\n",
    "stringency_index = (\n",
    "    pd.read_excel(url, sheet_name=0)\n",
    "      .query('jurisdiction == \"NAT_TOTAL\"')\n",
    "      .drop(columns=['region_code', 'region_name','jurisdiction'])\n",
    "      .dropna(axis='columns',how='all')\n",
    ")\n",
    "stringency_index.columns = stringency_index.columns[:2].tolist() + [pd.to_datetime(col, format='%d%b%Y').date() for col in stringency_index.columns[2:]]\n",
    "\n",
    "stringency_index_ts = (\n",
    "    stringency_index.melt(id_vars=['country_code', 'country_name'], var_name='date', value_name='value')\n",
    "                    .assign(date=lambda dd: pd.to_datetime(dd.date))\n",
    "                    .sort_values(by=['country_name','date'])\n",
    "                    .query('\"2020-02-01\" <= date <= \"2022-12-31\"')\n",
    "                    .merge(country_to_iso, left_on='country_code', right_on='iso3')\n",
    "                    .drop(columns=['country_name','country_code'])\n",
    "                    .reset_index(drop=True)\n",
    "                    .set_index(['country','date'])\n",
    ")"
   ]
  },
  {
   "cell_type": "code",
   "execution_count": null,
   "metadata": {},
   "outputs": [],
   "source": [
    "covid_new_cases_ts = (\n",
    "    covid_df.loc[:,['date','iso3','new_cases']]\n",
    "            .query('\"2020-02-01\" <= date <= \"2022-12-31\"')\n",
    "            .assign(date=lambda dd: pd.to_datetime(dd.date))\n",
    "            .reset_index(drop=True)\n",
    "            .merge(country_to_iso, left_on='iso3', right_on='iso3')\n",
    "            .set_index(['country','date'])\n",
    "            .merge(stringency_index_ts,left_index=True, right_index=True)\n",
    "            .drop(columns=['value'])\n",
    ")"
   ]
  },
  {
   "cell_type": "code",
   "execution_count": null,
   "metadata": {},
   "outputs": [],
   "source": [
    "from datetime import datetime\n",
    "\n",
    "# Define the start and end dates\n",
    "start_date = datetime(2020, 2, 1)\n",
    "end_date = datetime(2022, 12, 31)\n",
    "\n",
    "# Calculate the difference in days\n",
    "num_days = (end_date - start_date).days\n",
    "\n",
    "print(\"Number of days between the dates:\", num_days)"
   ]
  },
  {
   "cell_type": "code",
   "execution_count": null,
   "metadata": {},
   "outputs": [],
   "source": [
    "import openpyxl\n",
    "\n",
    "#stringency_index_ts.index.get_level_values('country').unique()\n",
    "\n",
    "w = 1000\n",
    "out_dir = '../resultsidx'\n",
    "for country in tqdm(['United States of America','Italy','Canada','Germany','United Kingdom','France'], desc='Processing Countries', leave=False):\n",
    "        covid_ts = covid_new_cases_ts.loc[country]['new_cases']\n",
    "        stringency_ts = stringency_index_ts.loc[country]['value']\n",
    "        sdc = SDCAnalysis(ts1=stringency_ts,\n",
    "                          ts2=covid_ts,\n",
    "                          fragment_size=w,\n",
    "                          method='spearman',\n",
    "                          max_lag=0,\n",
    "                          min_lag=-14)\n",
    "        sdc.to_excel(f\"{out_dir}/tables/SDC_country_groups/sdc_{w}_{country}_stringencyindex.xlsx\")\n",
    "        with warnings.catch_warnings():\n",
    "            warnings.simplefilter(\"ignore\")\n",
    "            sdc.combi_plot(dpi=120,\n",
    "                           figsize=(7, 7),\n",
    "                           title=f\"SDC with s={w}: \\nCOVID19 daily confirmed cases in\" +\n",
    "                                 f\" {country} ~ 'Stringency Index'\",\n",
    "                           xlabel='Stringency Index',\n",
    "                           ylabel=f\"Confirmed COVID19 cases in {country}\",\n",
    "                           alpha=0.05,\n",
    "                           max_lag=0,\n",
    "                           min_lag=-14,\n",
    "                           max_r=1,\n",
    "                           wspace=.35,\n",
    "                           hspace=.35)\n",
    "        plt.savefig(f\"{out_dir}/figures/SDC_country_groups/sdc_{w}_{country}_stringencyindex.png\")\n",
    "        plt.savefig(f\"{out_dir}/figures/SDC_country_groups/sdc_{w}_{country}_stringencyindex.pdf\")"
   ]
  }
 ],
 "metadata": {
  "kernelspec": {
   "display_name": "tfm_env",
   "language": "python",
   "name": "python3"
  },
  "language_info": {
   "name": "python",
   "version": "3.11.9"
  }
 },
 "nbformat": 4,
 "nbformat_minor": 2
}
