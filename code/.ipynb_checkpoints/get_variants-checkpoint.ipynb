{
 "cells": [
  {
   "cell_type": "code",
   "execution_count": 123,
   "metadata": {},
   "outputs": [],
   "source": [
    "import pandas as pd\n",
    "import numpy as np\n",
    "import matplotlib.pyplot as plt\n",
    "import os\n",
    "import re"
   ]
  },
  {
   "cell_type": "code",
   "execution_count": null,
   "metadata": {},
   "outputs": [],
   "source": [
    "def getVariants():\n",
    "    df = pd.read_csv(\"../data/gisaid_variants_statistics.tsv\", sep='\\t')\n",
    "    df['Week prior to'] = pd.to_datetime(df['Week prior to'])\n",
    "    df = df[df['Type']=='Variant']\n",
    "\n",
    "    # Extract Pango Lineage\n",
    "    df['Pango'] = df['Value'].str.extract(r'\\(([^)+]+)')"
   ]
  },
  {
   "cell_type": "code",
   "execution_count": 125,
   "metadata": {},
   "outputs": [],
   "source": []
  },
  {
   "cell_type": "code",
   "execution_count": 127,
   "metadata": {},
   "outputs": [],
   "source": [
    "# Convert NaN to Type \"Other\" Variant\n",
    "df['Pango'] = df['Pango'].replace(np.nan,\"Other\")\n",
    "\n",
    "# Load Nexstrain-Pango reference table\n",
    "df_ref = pd.read_csv(\"../data/NextstrainPango.csv\")\n",
    "\n",
    "# Dropping unnecesary columns\n",
    "df_ref.drop(columns = 'Other',inplace=True)"
   ]
  },
  {
   "cell_type": "code",
   "execution_count": 128,
   "metadata": {},
   "outputs": [],
   "source": [
    "df_merged = pd.merge(df, df_ref, left_on='Pango', right_on = 'Pango Lineage', how='left')"
   ]
  },
  {
   "cell_type": "code",
   "execution_count": 129,
   "metadata": {},
   "outputs": [],
   "source": [
    "path0 = os.getcwd()\n",
    "parent_directory = os.path.dirname(path0)\n",
    "data_directory = os.path.join(parent_directory, 'data')\n",
    "\n",
    "filename = os.path.join(data_directory, 'variants.csv')\n",
    "df_merged.to_csv(filename, index=False)  # Save DataFrame to CSV without index"
   ]
  }
 ],
 "metadata": {
  "kernelspec": {
   "display_name": "base",
   "language": "python",
   "name": "python3"
  },
  "language_info": {
   "codemirror_mode": {
    "name": "ipython",
    "version": 3
   },
   "file_extension": ".py",
   "mimetype": "text/x-python",
   "name": "python",
   "nbconvert_exporter": "python",
   "pygments_lexer": "ipython3",
   "version": "3.11.8"
  }
 },
 "nbformat": 4,
 "nbformat_minor": 2
}
