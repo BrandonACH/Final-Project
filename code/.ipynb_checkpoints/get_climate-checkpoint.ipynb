{
 "cells": [
  {
   "cell_type": "code",
   "execution_count": 9,
   "metadata": {},
   "outputs": [],
   "source": [
    "import cdsapi\n",
    "import os\n",
    "import requests\n",
    "c = cdsapi.Client()"
   ]
  },
  {
   "cell_type": "code",
   "execution_count": 10,
   "metadata": {},
   "outputs": [],
   "source": [
    "def GetClimate(variable, years):\n",
    "    \n",
    "    output_directory = \"../data/climate\"\n",
    "    os.makedirs(output_directory, exist_ok=True)\n",
    "\n",
    "    # Retrieve all months for a given year.\n",
    "    months = [str(month).zfill(2) for month in range(1, 13)]  # All months from 01 to 12\n",
    "\n",
    "    # Select the required statistic and variable\n",
    "    stat = \"daily_mean\"\n",
    "\n",
    "    # For valid keywords, see Table 2 of:\n",
    "    # https://datastore.copernicus-climate.eu/documents/app-c3s-daily-era5-statistics/C3S_Application-Documentation_ERA5-daily-statistics-v2.pdf\n",
    "    \n",
    "    for yr in years:\n",
    "        for mn in months:\n",
    "            result = c.service(\n",
    "                \"tool.toolbox.orchestrator.workflow\",\n",
    "                params={\n",
    "                    \"realm\": \"user-apps\",\n",
    "                    \"project\": \"app-c3s-daily-era5-statistics\",\n",
    "                    \"version\": \"master\",\n",
    "                    \"kwargs\": {\n",
    "                        \"dataset\": \"reanalysis-era5-pressure-levels\",\n",
    "                        \"product_type\": \"reanalysis\",\n",
    "                        \"variable\": variable,\n",
    "                        \"statistic\": stat,\n",
    "                        \"year\": yr,\n",
    "                        \"month\": mn,\n",
    "                        \"time_zone\": \"UTC+00:0\",\n",
    "                        \"frequency\": \"1-hourly\",\n",
    "                        # Users can change the output grid resolution and selected area\n",
    "                        # \"grid\": \"0.5/0.5\",\n",
    "                        # \"area\":{\"lat\": [10, 60], \"lon\": [65, 140]}\n",
    "                    },\n",
    "                    \"workflow_name\": \"application\"\n",
    "                })\n",
    "\n",
    "            file_name = \"download_\" + stat + \"_\" + variable + \"_\" + yr + \"_\" + mn + \".nc\"\n",
    "\n",
    "            # Prepend the directory to the file name\n",
    "            file_path = os.path.join(output_directory, file_name)\n",
    "\n",
    "            location = result[0]['location']\n",
    "            res = requests.get(location, stream=True)\n",
    "            print(\"Writing data to \" + file_name)\n",
    "            with open(file_path, 'wb') as fh:\n",
    "                for r in res.iter_content(chunk_size=1024):\n",
    "                    fh.write(r)\n",
    "            fh.close()\n"
   ]
  },
  {
   "cell_type": "code",
   "execution_count": null,
   "metadata": {},
   "outputs": [],
   "source": [
    "# Example usage:\n",
    "years = ['2022','2023']\n",
    "#variables = ['2m_temperature','2m_dewpoint_temperature','total_precipitation']\n",
    "variables = 'relative_humidity'\n",
    "for var in variables:\n",
    "    GetClimate(var, years)"
   ]
  },
  {
   "cell_type": "code",
   "execution_count": null,
   "metadata": {},
   "outputs": [],
   "source": []
  }
 ],
 "metadata": {
  "kernelspec": {
   "display_name": "base",
   "language": "python",
   "name": "python3"
  },
  "language_info": {
   "codemirror_mode": {
    "name": "ipython",
    "version": 3
   },
   "file_extension": ".py",
   "mimetype": "text/x-python",
   "name": "python",
   "nbconvert_exporter": "python",
   "pygments_lexer": "ipython3",
   "version": "3.11.8"
  }
 },
 "nbformat": 4,
 "nbformat_minor": 2
}
