{
 "cells": [
  {
   "cell_type": "code",
   "execution_count": 2,
   "metadata": {},
   "outputs": [],
   "source": [
    "import os\n",
    "import cdsapi\n",
    "\n",
    "import numpy as np\n",
    "import pandas as pd\n",
    "import matplotlib.pyplot as plt\n",
    "import plotnine as p9\n",
    "import seaborn as sns"
   ]
  },
  {
   "cell_type": "code",
   "execution_count": 3,
   "metadata": {},
   "outputs": [
    {
     "name": "stderr",
     "output_type": "stream",
     "text": [
      "c:\\Users\\brand\\anaconda3\\envs\\tfm_env\\Lib\\site-packages\\tqdm\\auto.py:21: TqdmWarning: IProgress not found. Please update jupyter and ipywidgets. See https://ipywidgets.readthedocs.io/en/stable/user_install.html\n"
     ]
    }
   ],
   "source": [
    "#!pip install sdcpy\n",
    "from tqdm.auto import tqdm\n",
    "from collections import defaultdict\n",
    "from sdcpy.scale_dependent_correlation import SDCAnalysis\n",
    "import warnings"
   ]
  },
  {
   "cell_type": "code",
   "execution_count": 4,
   "metadata": {},
   "outputs": [],
   "source": [
    "world = pd.read_pickle('../data/world_shape.pkl')"
   ]
  },
  {
   "cell_type": "code",
   "execution_count": 5,
   "metadata": {},
   "outputs": [],
   "source": [
    "country_to_iso = world[['country', 'iso3']].drop_duplicates()"
   ]
  },
  {
   "cell_type": "code",
   "execution_count": 8,
   "metadata": {},
   "outputs": [],
   "source": [
    "covid_df = pd.read_csv('../data/covid/covid19_world.csv')"
   ]
  },
  {
   "cell_type": "code",
   "execution_count": 9,
   "metadata": {},
   "outputs": [],
   "source": [
    "dens = pd.read_csv('../data/processed_05_grid.csv')"
   ]
  },
  {
   "cell_type": "code",
   "execution_count": 10,
   "metadata": {},
   "outputs": [],
   "source": [
    "country_groups = pd.read_csv('../data/country_groups.csv')"
   ]
  },
  {
   "cell_type": "code",
   "execution_count": 11,
   "metadata": {},
   "outputs": [],
   "source": [
    "lon_lat_country = pd.read_csv('../data/coords_region.csv').merge(country_to_iso)"
   ]
  },
  {
   "cell_type": "code",
   "execution_count": 12,
   "metadata": {},
   "outputs": [],
   "source": [
    "lon_lat_group = lon_lat_country.merge(country_groups)"
   ]
  },
  {
   "cell_type": "code",
   "execution_count": 13,
   "metadata": {},
   "outputs": [],
   "source": [
    "processed_path = \"../data/climate/processed/\"\n",
    "relevant_files = [f for f in os.listdir(processed_path) if (f[:9] >= '2021_12_0') & (f[:9] <= '2022_12_2')]\n",
    "climate_df = pd.concat([pd.read_pickle(f'{processed_path}{f}') for f in relevant_files])"
   ]
  },
  {
   "cell_type": "code",
   "execution_count": 17,
   "metadata": {},
   "outputs": [
    {
     "name": "stderr",
     "output_type": "stream",
     "text": [
      "c:\\Users\\brand\\anaconda3\\envs\\tfm_env\\Lib\\site-packages\\plotnine\\ggplot.py:587: PlotnineWarning: Saving 9 x 4 in image.\n",
      "c:\\Users\\brand\\anaconda3\\envs\\tfm_env\\Lib\\site-packages\\plotnine\\ggplot.py:588: PlotnineWarning: Filename: ../results/world_plot.png\n"
     ]
    }
   ],
   "source": [
    "f = (world\n",
    "     .merge(country_groups)\n",
    "     .pipe(lambda dd: p9.ggplot(dd)\n",
    "       + p9.geom_map(data=world, fill='gray')\n",
    "       + p9.geom_map(p9.aes(fill='group'))\n",
    "       + p9.ylim(-55, None)\n",
    "       + p9.labs(fill='')\n",
    "       + p9.theme_void()\n",
    "       + p9.theme(figure_size=(9, 4), dpi=200, legend_key_height=15)\n",
    "      )\n",
    ")\n",
    "f.save(\"../results/world_plot.png\")"
   ]
  },
  {
   "cell_type": "code",
   "execution_count": 13,
   "metadata": {},
   "outputs": [
    {
     "name": "stderr",
     "output_type": "stream",
     "text": [
      "C:\\Users\\brand\\AppData\\Local\\Temp\\ipykernel_23900\\1766496956.py:3: DeprecationWarning: DataFrameGroupBy.apply operated on the grouping columns. This behavior is deprecated, and in a future version of pandas the grouping columns will be excluded from the operation. Either pass `include_groups=False` to exclude the groupings or explicitly select the grouping columns after groupby to silence this warning.\n"
     ]
    }
   ],
   "source": [
    "weighted_cells = (dens.merge(lon_lat_group)\n",
    "    .groupby('group', as_index=False)\n",
    "    .apply(lambda gdd: gdd.assign( relative_weight=lambda gdd: gdd.density / gdd.density.sum()))\n",
    "    .reset_index(drop=True)\n",
    ")"
   ]
  },
  {
   "cell_type": "code",
   "execution_count": 14,
   "metadata": {},
   "outputs": [],
   "source": [
    "weighted_climate_df = (\n",
    "        weighted_cells.dropna()\n",
    "        .merge(climate_df, on=[\"latitude\", \"longitude\"])\n",
    "        .assign(temperature=lambda dd: dd.temperature * dd.relative_weight,\n",
    "                absolute_humidity=lambda dd: dd.absolute_humidity * dd.relative_weight)\n",
    "        .groupby(['group', \"date\"], as_index=False)\n",
    "        [[\"temperature\", \"absolute_humidity\"]]\n",
    "        .agg({\"temperature\": \"sum\", \"absolute_humidity\": \"sum\"})\n",
    ")"
   ]
  },
  {
   "cell_type": "code",
   "execution_count": 15,
   "metadata": {},
   "outputs": [
    {
     "name": "stderr",
     "output_type": "stream",
     "text": [
      "C:\\Users\\brand\\AppData\\Local\\Temp\\ipykernel_23900\\1085163371.py:6: DeprecationWarning: DataFrameGroupBy.apply operated on the grouping columns. This behavior is deprecated, and in a future version of pandas the grouping columns will be excluded from the operation. Either pass `include_groups=False` to exclude the groupings or explicitly select the grouping columns after groupby to silence this warning.\n"
     ]
    }
   ],
   "source": [
    "groups_covid_ts = \\\n",
    "(covid_df\n",
    " .merge(country_groups)\n",
    " .assign(date=lambda dd: pd.to_datetime(dd.date))\n",
    " .groupby('group')\n",
    " .apply(lambda dd: \n",
    "        dd.set_index('date')\n",
    "        .resample('D')\n",
    "        .sum()\n",
    "        ['new_cases']\n",
    "        #.rolling(center=True, window=7)\n",
    "        #.mean()\n",
    "        .loc['2021-12-01': '2022-12-31'])\n",
    ")"
   ]
  },
  {
   "cell_type": "code",
   "execution_count": 17,
   "metadata": {},
   "outputs": [],
   "source": [
    "groups_weather_ts = \\\n",
    "(weighted_climate_df\n",
    " .assign(date=lambda dd: pd.to_datetime(dd.date))\n",
    " .query('\"2021-12-01\" <= date <= \"2022-12-31\"')\n",
    " .set_index(['group', 'date'])\n",
    ")"
   ]
  },
  {
   "cell_type": "code",
   "execution_count": 21,
   "metadata": {},
   "outputs": [],
   "source": [
    "CV_LABELS = {'absolute_humidity': 'Absolute Humidity [g/m³]',\n",
    "             'temperature': 'Temperature [°C]',\n",
    "             'relative_humidity': 'Relative Humidity [%]',\n",
    "             'total_precipitation': 'Total Precipitation [mm]'}"
   ]
  },
  {
   "cell_type": "markdown",
   "metadata": {},
   "source": [
    "## SDC Analysis for groups of contiguous countries"
   ]
  },
  {
   "cell_type": "code",
   "execution_count": 23,
   "metadata": {},
   "outputs": [
    {
     "name": "stderr",
     "output_type": "stream",
     "text": [
      "                                                                  \r"
     ]
    }
   ],
   "source": [
    "import openpyxl\n",
    "\n",
    "w = 105\n",
    "out_dir = '../results'\n",
    "for group in tqdm(country_groups.group.unique(), desc='Processing Groups', leave=False):\n",
    "    for weather_variable in ['temperature', 'absolute_humidity']:\n",
    "        covid_ts = groups_covid_ts.loc[group]\n",
    "        weather_ts = groups_weather_ts.loc[group][weather_variable]\n",
    "        sdc = SDCAnalysis(ts1=weather_ts,\n",
    "                          ts2=covid_ts,\n",
    "                          fragment_size=w,\n",
    "                          method='spearman',\n",
    "                          max_lag=0,\n",
    "                          min_lag=-21)\n",
    "        sdc.to_excel(f\"{out_dir}/tables/SDC_country_groups/sdc_{w}_{group}_{weather_variable}.xlsx\")\n",
    "        with warnings.catch_warnings():\n",
    "            warnings.simplefilter(\"ignore\")\n",
    "            sdc.combi_plot(dpi=120,\n",
    "                           figsize=(7, 7),\n",
    "                           title=f\"SDC with s={w}: \\nCOVID19 daily confirmed cases in\" +\n",
    "                                 f\" {group} ~ {weather_variable}\",\n",
    "                           xlabel=CV_LABELS[weather_variable],\n",
    "                           ylabel=f\"Confirmed COVID19 cases in {group}\",\n",
    "                           alpha=0.05,\n",
    "                           max_lag=0,\n",
    "                           min_lag=-21,\n",
    "                           max_r=1,\n",
    "                           wspace=.35,\n",
    "                           hspace=.35)\n",
    "        plt.savefig(f\"{out_dir}/figures/SDC_country_groups/sdc_{w}_{group}_{weather_variable}.png\")\n",
    "        plt.savefig(f\"{out_dir}/figures/SDC_country_groups/sdc_{w}_{group}_{weather_variable}.pdf\")"
   ]
  },
  {
   "cell_type": "markdown",
   "metadata": {},
   "source": [
    "## SDC Analysis for European countries"
   ]
  },
  {
   "cell_type": "code",
   "execution_count": 79,
   "metadata": {},
   "outputs": [],
   "source": [
    "eur_countries = lon_lat_country[lon_lat_country['country'].isin(['Germany', 'Spain', 'France', 'United Kingdom', 'Italy'])]"
   ]
  },
  {
   "cell_type": "code",
   "execution_count": 124,
   "metadata": {},
   "outputs": [],
   "source": [
    "eur_covid_ts = (\n",
    "    covid_df\n",
    "    .query(\"country in ['Germany', 'Spain', 'France', 'United Kingdom', 'Italy']\")\n",
    "    .assign(date=lambda dd: pd.to_datetime(dd['date']))\n",
    "    .set_index('date')\n",
    "    .sort_index()\n",
    "    [['country','new_cases']]\n",
    "    .loc['2021-12-01':'2022-12-31']\n",
    ")"
   ]
  },
  {
   "cell_type": "code",
   "execution_count": 139,
   "metadata": {},
   "outputs": [
    {
     "name": "stderr",
     "output_type": "stream",
     "text": [
      "C:\\Users\\brand\\AppData\\Local\\Temp\\ipykernel_23900\\3096511853.py:3: DeprecationWarning: DataFrameGroupBy.apply operated on the grouping columns. This behavior is deprecated, and in a future version of pandas the grouping columns will be excluded from the operation. Either pass `include_groups=False` to exclude the groupings or explicitly select the grouping columns after groupby to silence this warning.\n"
     ]
    }
   ],
   "source": [
    "eur_weighted_cells = (dens.merge(lon_lat_country)\n",
    "    .groupby('country', as_index=False)\n",
    "    .apply(lambda gdd: gdd.assign( relative_weight=lambda gdd: gdd.density / gdd.density.sum()))\n",
    "    .reset_index(drop=True)\n",
    ")"
   ]
  },
  {
   "cell_type": "code",
   "execution_count": 160,
   "metadata": {},
   "outputs": [],
   "source": [
    "eur_weighted_climate_df = (\n",
    "        eur_weighted_cells.dropna()\n",
    "        .merge(climate_df, on=[\"latitude\", \"longitude\"])\n",
    "        .assign(temperature=lambda dd: dd.temperature * dd.relative_weight,\n",
    "                absolute_humidity=lambda dd: dd.absolute_humidity * dd.relative_weight)\n",
    "        .groupby([\"date\",\"country_x\"], as_index=False)\n",
    "        [[\"temperature\", \"absolute_humidity\"]]\n",
    "        .agg({\"temperature\": \"sum\", \"absolute_humidity\": \"sum\"})\n",
    ")"
   ]
  },
  {
   "cell_type": "code",
   "execution_count": 164,
   "metadata": {},
   "outputs": [],
   "source": [
    "eur_weather_ts = (\n",
    "    eur_weighted_climate_df\n",
    "    .query(\"country_x in ['Germany', 'Spain', 'France', 'United Kingdom', 'Italy']\")\n",
    "    .assign(date=lambda dd: pd.to_datetime(dd['date']))\n",
    "    .query('\"2021-12-01\" <= date <= \"2022-12-31\"')\n",
    "    .set_index('date')\n",
    ")"
   ]
  },
  {
   "cell_type": "code",
   "execution_count": 167,
   "metadata": {},
   "outputs": [
    {
     "name": "stderr",
     "output_type": "stream",
     "text": [
      "                                                                   \r"
     ]
    }
   ],
   "source": [
    "\n",
    "w = 105\n",
    "out_dir = '../results'\n",
    "for country in tqdm(['Germany', 'Spain', 'France', 'United Kingdom', 'Italy'], desc='Processing Countries', leave=False):\n",
    "    for weather_variable in ['temperature', 'absolute_humidity']:\n",
    "        country_covid_ts = eur_covid_ts[eur_covid_ts['country'] == country]['new_cases']\n",
    "        country_weather_ts = eur_weather_ts[eur_weather_ts['country_x'] == country][weather_variable]\n",
    "        sdc = SDCAnalysis(ts1=country_weather_ts,\n",
    "                          ts2=country_covid_ts,\n",
    "                          fragment_size=w,\n",
    "                          method='spearman',\n",
    "                          max_lag=0,\n",
    "                          min_lag=-21)\n",
    "        sdc.to_excel(f\"{out_dir}/tables/SDC_eur_countries/sdc_{w}_{country}_{weather_variable}.xlsx\")\n",
    "        with warnings.catch_warnings():\n",
    "            warnings.simplefilter(\"ignore\")\n",
    "            sdc.combi_plot(dpi=120,\n",
    "                           figsize=(7, 7),\n",
    "                           title=f\"SDC with s={w}: \\nCOVID19 daily confirmed cases in\" +\n",
    "                                 f\" {country} ~ {weather_variable}\",\n",
    "                           xlabel=CV_LABELS[weather_variable],\n",
    "                           ylabel=f\"Confirmed COVID19 cases in {country}\",\n",
    "                           alpha=0.05,\n",
    "                           max_lag=0,\n",
    "                           min_lag=-21,\n",
    "                           max_r=1,\n",
    "                           wspace=.35,\n",
    "                           hspace=.35)\n",
    "        plt.savefig(f\"{out_dir}/figures/SDC_eur_countries/sdc_{w}_{country}_{weather_variable}.png\")\n",
    "        plt.savefig(f\"{out_dir}/figures/SDC_eur_countries/sdc_{w}_{country}_{weather_variable}.pdf\")\n",
    "        plt.close()"
   ]
  }
 ],
 "metadata": {
  "kernelspec": {
   "display_name": "tfm_env",
   "language": "python",
   "name": "python3"
  },
  "language_info": {
   "codemirror_mode": {
    "name": "ipython",
    "version": 3
   },
   "file_extension": ".py",
   "mimetype": "text/x-python",
   "name": "python",
   "nbconvert_exporter": "python",
   "pygments_lexer": "ipython3",
   "version": "3.11.9"
  }
 },
 "nbformat": 4,
 "nbformat_minor": 2
}
